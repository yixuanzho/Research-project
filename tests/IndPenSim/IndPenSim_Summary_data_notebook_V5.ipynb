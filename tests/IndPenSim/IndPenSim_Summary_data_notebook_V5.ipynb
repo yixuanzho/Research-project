{
 "cells": [
  {
   "cell_type": "code",
   "execution_count": null,
   "metadata": {},
   "outputs": [],
   "source": [
    "## Import necessary packages\n",
    "import pandas as pd\n",
    "import numpy as np\n",
    "import ipywidgets as widgets\n",
    "from IPython.display import display\n",
    "import matplotlib.pyplot as plt\n",
    "import seaborn as sns\n",
    "import plotly.express as px\n",
    "import math"
   ]
  },
  {
   "cell_type": "code",
   "execution_count": null,
   "metadata": {},
   "outputs": [],
   "source": [
    "# Converting the data into Dataframe\n",
    "data = pd.read_csv('Mendeley_data/100_Batches_IndPenSim_V3.csv') \n",
    "# Converting summary statisic data into Dataframe\n",
    "data_summary = pd.read_csv('Mendeley_data/100_Batches_IndPenSim_Statistics.csv')"
   ]
  },
  {
   "cell_type": "code",
   "execution_count": null,
   "metadata": {},
   "outputs": [],
   "source": [
    "data_summary.info()"
   ]
  },
  {
   "cell_type": "code",
   "execution_count": null,
   "metadata": {},
   "outputs": [],
   "source": [
    "data_summary"
   ]
  },
  {
   "cell_type": "code",
   "execution_count": null,
   "metadata": {},
   "outputs": [],
   "source": [
    "# Split the dataframe into two parts at column \"2400\"\n",
    "# The first part contains process variables, the second part contains Raman spectra\n",
    "variable_raman_data = np.split(data, [data.columns.get_loc(\"2400\")], axis=1)"
   ]
  },
  {
   "cell_type": "code",
   "execution_count": null,
   "metadata": {},
   "outputs": [],
   "source": [
    "# Extract the process variables dataframe (first part of the split)\n",
    "variable_data = variable_raman_data[0]\n",
    "# Fix a column naming issue by swapping two column names\n",
    "# This appears to correct a mislabeling in the original dataset\n",
    "variable_data = variable_data.rename(columns={\n",
    "    '2-PAT control(PAT_ref:PAT ref)': 'Batch reference(Batch_ref:Batch ref)',\n",
    "    'Batch reference(Batch_ref:Batch ref)':'2-PAT control(PAT_ref:PAT ref)'})"
   ]
  },
  {
   "cell_type": "code",
   "execution_count": null,
   "metadata": {},
   "outputs": [],
   "source": [
    "variable_data.info()"
   ]
  },
  {
   "cell_type": "code",
   "execution_count": null,
   "metadata": {},
   "outputs": [],
   "source": [
    "variable_data"
   ]
  },
  {
   "cell_type": "code",
   "execution_count": null,
   "metadata": {},
   "outputs": [],
   "source": [
    "variable_data.describe()"
   ]
  },
  {
   "cell_type": "code",
   "execution_count": null,
   "metadata": {},
   "outputs": [],
   "source": [
    "# Batch ID = 0 indicates no fault introduced at the specific time point in the batch (?)\n",
    "batch_id_zero = variable_data[variable_data['Batch ID'] == 0]\n",
    "(batch_id_zero['Fault flag'] == 0).all()"
   ]
  },
  {
   "cell_type": "code",
   "execution_count": null,
   "metadata": {},
   "outputs": [],
   "source": [
    "variable_list = variable_data.columns"
   ]
  },
  {
   "cell_type": "code",
   "execution_count": null,
   "metadata": {},
   "outputs": [],
   "source": [
    "variable_list"
   ]
  },
  {
   "cell_type": "code",
   "execution_count": null,
   "metadata": {},
   "outputs": [],
   "source": [
    "# Missing values\n",
    "\n",
    "## Only 5 off-line measurement variables contain missing values:\n",
    "## 1. PAA concentration offline(PAA_offline:PAA (g L^{-1}))\n",
    "## 2. NH_3 concentration off-line(NH3_offline:NH3 (g L^{-1}))\n",
    "## 3. Offline Penicillin concentration(P_offline:P(g L^{-1}))\n",
    "## 4. Offline Biomass concentratio(X_offline:X(g L^{-1}))\n",
    "## 5. Viscosity(Viscosity_offline:centPoise)\n",
    "\n",
    "## The missingness is due to the measurement frequency: these offline variables are measured every 12 hrs and include a pre-defined delay (4 h). See Table 1 in the paper.\n",
    "## e.g., the first measurement of Offline Penicillin concentration (P_offline) is at 1.0 h, which corresponds to the Penicillin concentration (P) at 0.2 h.\n",
    "## The second measurement of P_offline is at 12.0 h, corresponding to P at 11.2 h."
   ]
  },
  {
   "cell_type": "code",
   "execution_count": null,
   "metadata": {},
   "outputs": [],
   "source": [
    "categorical_vars = ['Fault reference(Fault_ref:Fault ref)',\n",
    "                    '0 - Recipe driven 1 - Operator controlled(Control_ref:Control ref)',\n",
    "                    '1- No Raman spec', ' 1-Raman spec recorded',\n",
    "                    'Batch reference(Batch_ref:Batch ref)',\n",
    "                    '2-PAT control(PAT_ref:PAT ref)', 'Batch ID', 'Fault flag']\n",
    "\n",
    "variable_list_new = [var for var in variable_list if var not in categorical_vars]"
   ]
  },
  {
   "cell_type": "code",
   "execution_count": null,
   "metadata": {},
   "outputs": [],
   "source": [
    "dropdown_update = widgets.Dropdown(options=variable_list_new, description='Variable:', value='Penicillin concentration(P:g/L)')\n",
    "output_update = widgets.Output()\n",
    "\n",
    "def update_plot(change):\n",
    "    with output_update:\n",
    "        output_update.clear_output()\n",
    "        plt.figure(figsize=(8,6))\n",
    "        sns.lineplot(data=variable_data, x='Time (h)', y=change.new, hue='Batch reference(Batch_ref:Batch ref)', palette=\"Set1\", legend=False)\n",
    "        plt.title(f'Variable: {change.new}')\n",
    "        plt.show()\n",
    "\n",
    "dropdown_update.observe(update_plot, names='value')\n",
    "display(dropdown_update, output_update)"
   ]
  },
  {
   "cell_type": "code",
   "execution_count": null,
   "metadata": {},
   "outputs": [],
   "source": [
    "# Configuration\n",
    "n_cols = 4\n",
    "n_plots_per_fig = 30\n",
    "\n",
    "# Filter out 'Time (h)' from the variable list for plotting\n",
    "variable_list_new_filtered_time = [var for var in variable_list_new if var != 'Time (h)']\n",
    "\n",
    "# Create figures with subplots for all variables\n",
    "for i in range(math.ceil(len(variable_list_new_filtered_time)/n_plots_per_fig)):\n",
    "    # Get variables for this figure\n",
    "    vars_subset = variable_list_new_filtered_time[i*n_plots_per_fig:min((i+1)*n_plots_per_fig, len(variable_list_new_filtered_time))]\n",
    "    n_rows = math.ceil(len(vars_subset)/n_cols)\n",
    "    # Create figure\n",
    "    fig, axes = plt.subplots(n_rows, n_cols, figsize=(20, 5*n_rows))\n",
    "    axes = axes.flatten()  # Flatten the axes array for easy indexing\n",
    "    # Create each subplot\n",
    "    for j, var in enumerate(vars_subset):\n",
    "        sns.lineplot(data=variable_data, x='Time (h)', y=var, hue='Batch reference(Batch_ref:Batch ref)', palette=\"Set1\", legend=False, ax=axes[j])\n",
    "        axes[j].set_title(var, fontsize=12)\n",
    "        axes[j].tick_params(labelsize=8, axis='x')\n",
    "    # Hide unused subplots\n",
    "    for k in range(len(vars_subset), len(axes)):\n",
    "        axes[k].set_visible(False)\n",
    "    # Add legend and show\n",
    "    handles, labels = axes[0].get_legend_handles_labels()\n",
    "    # fig.legend(handles, labels, loc='upper right', title='Batch reference')\n",
    "    plt.tight_layout(rect=[0, 0, 1, 0.95])\n",
    "    plt.show()"
   ]
  },
  {
   "cell_type": "code",
   "execution_count": null,
   "metadata": {},
   "outputs": [],
   "source": [
    "variable_data_end_p = variable_data.sort_values(by=\"Time (h)\", ascending=False).groupby(['Batch reference(Batch_ref:Batch ref)']).first()[\"Penicillin concentration(P:g/L)\"]\n",
    "print(variable_data_end_p.describe())\n",
    "plt.figure()\n",
    "sns.boxplot(variable_data_end_p)\n",
    "plt.ylabel('Penicillin concentration (g/L)')\n",
    "plt.title('Distribution of Penicillin concentration at the end of the batch')\n",
    "plt.show()"
   ]
  },
  {
   "cell_type": "code",
   "execution_count": null,
   "metadata": {},
   "outputs": [],
   "source": [
    "variable_data_end_p = variable_data.sort_values(by=\"Time (h)\", ascending=False).groupby(['Batch reference(Batch_ref:Batch ref)']).first()[\"Penicillin concentration(P:g/L)\"]\n",
    "print(variable_data_end_p.describe())\n",
    "plt.figure()\n",
    "sns.boxplot(variable_data_end_p)\n",
    "plt.yscale('log')\n",
    "plt.ylabel('log10(Penicillin concentration (g/L))')\n",
    "plt.title('Distribution of Penicillin concentration at the end of the batch')\n",
    "plt.show()"
   ]
  },
  {
   "cell_type": "code",
   "execution_count": null,
   "metadata": {},
   "outputs": [],
   "source": [
    "# Configuration\n",
    "n_cols = 4\n",
    "n_plots_per_fig = 30\n",
    "n_facets = 40\n",
    "\n",
    "variable_data_copy = variable_data.copy()\n",
    "variable_data_copy[\"P_end(P_end:g/L)\"] = variable_data_copy[\"Batch reference(Batch_ref:Batch ref)\"].map(variable_data_end_p.to_dict())\n",
    "\n",
    "# Create interactive plots in batches\n",
    "for i in range(math.ceil(len(variable_list_new)/n_facets)):\n",
    "    # Select the subset of variables for this batch of plots\n",
    "    vars_subset = variable_list_new[i*n_facets:min((i+1)*n_facets, len(variable_list_new))]\n",
    "    n_rows = math.ceil(len(vars_subset)/n_cols)\n",
    "    # Create a long-form DataFrame for the selected variables\n",
    "    plot_data = variable_data_copy.melt(id_vars=['Time (h)', 'Batch reference(Batch_ref:Batch ref)', 'P_end(P_end:g/L)', \"Penicillin concentration(P:g/L)\"], \n",
    "                                        value_vars=vars_subset, var_name='Variable', value_name='Value')\n",
    "    # Create the interactive scatter plot\n",
    "    fig = px.scatter(plot_data, x='Time (h)', y='Value', color='P_end(P_end:g/L)', \n",
    "                     facet_col='Variable', hover_name=\"Batch reference(Batch_ref:Batch ref)\", \n",
    "                     hover_data={\"Time (h)\": True, \"Value\": True, \"P_end(P_end:g/L)\": True, \"Penicillin concentration(P:g/L)\": True, },\n",
    "                     facet_col_wrap=4, \n",
    "                    #  title=f\"Process Variables Over Time (Color = Final Penicillin Concentration)\",\n",
    "                     )\n",
    "    fig.update_layout(height=2500, showlegend=False)\n",
    "    fig.update_yaxes(matches=None) \n",
    "    fig.for_each_yaxis(lambda yaxis: yaxis.update(showticklabels=True))\n",
    "    fig.show()"
   ]
  },
  {
   "cell_type": "code",
   "execution_count": null,
   "metadata": {},
   "outputs": [],
   "source": [
    "# Create figures with subplots for all variables against Penicillin concentration\n",
    "response_var_p = 'Penicillin concentration(P:g/L)'\n",
    "\n",
    "# Filter out the reference variable from the list to avoid plotting it against itself\n",
    "variable_list_new_filtered_p = [var for var in variable_list_new if var != 'Penicillin concentration(P:g/L)' and var != 'Time (h)']\n",
    "\n",
    "# Time-series with color-coded Penicillin concentration\n",
    "for i in range(math.ceil(len(variable_list_new_filtered_p)/n_plots_per_fig)):\n",
    "    # Get variables for this figure\n",
    "    vars_subset = variable_list_new_filtered_p[i*n_plots_per_fig:min((i+1)*n_plots_per_fig, len(variable_list_new_filtered_p))]\n",
    "    n_rows = math.ceil(len(vars_subset)/n_cols)\n",
    "    # Create figure\n",
    "    fig, axes = plt.subplots(n_rows, n_cols, figsize=(20, 4*n_rows))\n",
    "    axes = axes.flatten()  # Flatten the axes array for easy indexing\n",
    "    # Create each subplot\n",
    "    for j, var in enumerate(vars_subset):\n",
    "        # Create color-mapped scatter plots by time\n",
    "        scatter = axes[j].scatter(variable_data['Time (h)'], variable_data[var], c=variable_data[response_var_p], cmap='viridis', alpha=0.5, s=30)\n",
    "        # Add colorbar\n",
    "        cb = fig.colorbar(scatter, ax=axes[j], shrink=0.8)\n",
    "        cb.set_label(response_var_p, fontsize=10)\n",
    "        # axes[j].set_title(f'{var}', fontsize=12)\n",
    "        axes[j].set_xlabel('Time (h)', fontsize=10)\n",
    "        axes[j].set_ylabel(var, fontsize=10)\n",
    "    # Hide unused subplots\n",
    "    for k in range(len(vars_subset), len(axes)):\n",
    "        axes[k].set_visible(False)\n",
    "    # Add legend and show\n",
    "    plt.suptitle(f'Variables over time (color = {response_var_p})', fontsize=16)\n",
    "    plt.tight_layout(rect=[0, 0, 1, 0.95])\n",
    "    plt.show()"
   ]
  },
  {
   "cell_type": "code",
   "execution_count": null,
   "metadata": {},
   "outputs": [],
   "source": []
  }
 ],
 "metadata": {
  "hide_input": true,
  "kernelspec": {
   "display_name": "base",
   "language": "python",
   "name": "python3"
  },
  "language_info": {
   "codemirror_mode": {
    "name": "ipython",
    "version": 3
   },
   "file_extension": ".py",
   "mimetype": "text/x-python",
   "name": "python",
   "nbconvert_exporter": "python",
   "pygments_lexer": "ipython3",
   "version": "3.12.3"
  },
  "toc": {
   "base_numbering": 1,
   "nav_menu": {},
   "number_sections": true,
   "sideBar": true,
   "skip_h1_title": false,
   "title_cell": "Table of Contents",
   "title_sidebar": "Contents",
   "toc_cell": false,
   "toc_position": {},
   "toc_section_display": true,
   "toc_window_display": true
  }
 },
 "nbformat": 4,
 "nbformat_minor": 2
}
