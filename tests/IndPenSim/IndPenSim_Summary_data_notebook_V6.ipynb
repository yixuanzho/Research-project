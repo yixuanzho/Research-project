{
 "cells": [
  {
   "cell_type": "code",
   "execution_count": null,
   "metadata": {},
   "outputs": [],
   "source": [
    "import math\n",
    "from scipy.stats import pearsonr\n",
    "\n",
    "import ipywidgets as widgets\n",
    "import matplotlib.pyplot as plt\n",
    "import numpy as np\n",
    "import pandas as pd\n",
    "import plotly.express as px\n",
    "import seaborn as sns\n",
    "from IPython.display import display"
   ]
  },
  {
   "cell_type": "code",
   "execution_count": null,
   "metadata": {},
   "outputs": [],
   "source": [
    "# Converting the data into Dataframe\n",
    "data = pd.read_csv('Mendeley_data/100_Batches_IndPenSim_V3.csv') \n",
    "# Converting summary statisic data into Dataframe\n",
    "data_summary = pd.read_csv('Mendeley_data/100_Batches_IndPenSim_Statistics.csv')"
   ]
  },
  {
   "cell_type": "code",
   "execution_count": null,
   "metadata": {},
   "outputs": [],
   "source": [
    "data_summary.info()"
   ]
  },
  {
   "cell_type": "code",
   "execution_count": null,
   "metadata": {},
   "outputs": [],
   "source": [
    "data_summary"
   ]
  },
  {
   "cell_type": "code",
   "execution_count": null,
   "metadata": {},
   "outputs": [],
   "source": [
    "# Check if the total yield is roughly equal to the sum of the yield during the batch and at the end of the batch\n",
    "data_summary['Penicllin_harvested_total (kg)'] = data_summary['Penicllin_harvested_during_batch(kg)'] + data_summary['Penicllin_harvested_end_of_batch (kg)']\n",
    "data_summary['Difference'] = data_summary['Penicllin_yield_total (kg)'] - data_summary['Penicllin_harvested_total (kg)']\n",
    "discrepancies = data_summary[abs(data_summary['Difference'])>10].copy()\n",
    "len(discrepancies)"
   ]
  },
  {
   "cell_type": "code",
   "execution_count": null,
   "metadata": {},
   "outputs": [],
   "source": [
    "# The maximum difference is 100.0 kg. (Is this amount acceptable??)\n",
    "print(discrepancies['Difference'].describe())\n",
    "print(discrepancies['Difference'].value_counts())"
   ]
  },
  {
   "cell_type": "code",
   "execution_count": null,
   "metadata": {},
   "outputs": [],
   "source": [
    "# Calculate the Pearson correlation coefficient\n",
    "print(pearsonr(data_summary['Penicllin_harvested_during_batch(kg)'], data_summary['Penicllin_harvested_end_of_batch (kg)']))\n",
    "print(pearsonr(data_summary['Penicllin_harvested_during_batch(kg)'], data_summary['Penicllin_yield_total (kg)']))\n",
    "print(pearsonr(data_summary['Penicllin_harvested_end_of_batch (kg)'], data_summary['Penicllin_yield_total (kg)']))"
   ]
  },
  {
   "cell_type": "code",
   "execution_count": null,
   "metadata": {},
   "outputs": [],
   "source": [
    "sns.scatterplot(data=data_summary, x='Penicllin_harvested_during_batch(kg)', y='Penicllin_harvested_end_of_batch (kg)')\n",
    "plt.xlabel('Penicllin_harvested_during_batch(kg)')\n",
    "plt.ylabel('Penicllin_harvested_end_of_batch (kg)')\n",
    "plt.show()"
   ]
  },
  {
   "cell_type": "code",
   "execution_count": null,
   "metadata": {},
   "outputs": [],
   "source": [
    "sns.scatterplot(data=data_summary, x='Penicllin_harvested_during_batch(kg)', y='Penicllin_yield_total (kg)')\n",
    "plt.xlabel('Penicllin_harvested_during_batch(kg)')\n",
    "plt.ylabel('Penicllin_yield_total (kg)')\n",
    "plt.show()"
   ]
  },
  {
   "cell_type": "code",
   "execution_count": null,
   "metadata": {},
   "outputs": [],
   "source": [
    "sns.scatterplot(data=data_summary, x='Penicllin_harvested_end_of_batch (kg)', y='Penicllin_yield_total (kg)')\n",
    "plt.xlabel('Penicllin_harvested_end_of_batch (kg)')\n",
    "plt.ylabel('Penicllin_yield_total (kg)')\n",
    "plt.show()"
   ]
  },
  {
   "cell_type": "code",
   "execution_count": null,
   "metadata": {},
   "outputs": [],
   "source": [
    "# Split the dataframe into two parts at column \"2400\"\n",
    "# The first part contains process variables, the second part contains Raman spectra\n",
    "variable_raman_data = np.split(data, [data.columns.get_loc(\"2400\")], axis=1)"
   ]
  },
  {
   "cell_type": "code",
   "execution_count": null,
   "metadata": {},
   "outputs": [],
   "source": [
    "# Extract the process variables dataframe (first part of the split)\n",
    "variable_data = variable_raman_data[0]\n",
    "# Fix a column naming issue by swapping two column names\n",
    "# This appears to correct a mislabeling in the original dataset\n",
    "variable_data = variable_data.rename(columns={\n",
    "    '2-PAT control(PAT_ref:PAT ref)': 'Batch reference(Batch_ref:Batch ref)',\n",
    "    'Batch reference(Batch_ref:Batch ref)':'2-PAT control(PAT_ref:PAT ref)'})"
   ]
  },
  {
   "cell_type": "code",
   "execution_count": null,
   "metadata": {},
   "outputs": [],
   "source": [
    "variable_data.info()"
   ]
  },
  {
   "cell_type": "code",
   "execution_count": null,
   "metadata": {},
   "outputs": [],
   "source": [
    "# Missing values\n",
    "\n",
    "## Only 5 off-line measurement variables contain missing values:\n",
    "## 1. PAA concentration offline(PAA_offline:PAA (g L^{-1}))\n",
    "## 2. NH_3 concentration off-line(NH3_offline:NH3 (g L^{-1}))\n",
    "## 3. Offline Penicillin concentration(P_offline:P(g L^{-1}))\n",
    "## 4. Offline Biomass concentratio(X_offline:X(g L^{-1}))\n",
    "## 5. Viscosity(Viscosity_offline:centPoise)\n",
    "\n",
    "## The missingness is due to the measurement frequency: these offline variables are measured every 12 hrs and include a pre-defined delay (4 time steps). See Table 1 in the paper.\n",
    "## e.g., the first measurement of Offline Penicillin concentration (P_offline) is at 1.0 h, which corresponds to the Penicillin concentration (P) at 0.2 h.\n",
    "## The second measurement of P_offline is at 12.0 h, corresponding to P at 11.2 h."
   ]
  },
  {
   "cell_type": "code",
   "execution_count": null,
   "metadata": {},
   "outputs": [],
   "source": [
    "# Batch ID = 0 indicates no fault introduced at the specific time point in the batch (?)\n",
    "batch_id_zero = variable_data[variable_data['Batch ID'] == 0]\n",
    "(batch_id_zero['Fault flag'] == 0).all()"
   ]
  },
  {
   "cell_type": "code",
   "execution_count": null,
   "metadata": {},
   "outputs": [],
   "source": [
    "# Create a new column to indicate the batch length\n",
    "time_group = variable_data.groupby('Batch reference(Batch_ref:Batch ref)')['Time (h)'].max()\n",
    "fixed_batch = time_group[time_group == 230].index\n",
    "# Create a new column with default value 0\n",
    "variable_data['0 - Variable 1 - Fixed(Batch_length:Batch length)'] = 0\n",
    "# Set the value to 1 for batches with max time = 230\n",
    "for batch in fixed_batch:\n",
    "    variable_data.loc[variable_data['Batch reference(Batch_ref:Batch ref)'] == batch, '0 - Variable 1 - Fixed(Batch_length:Batch length)'] = 1"
   ]
  },
  {
   "cell_type": "code",
   "execution_count": null,
   "metadata": {},
   "outputs": [],
   "source": [
    "variable_data"
   ]
  },
  {
   "cell_type": "code",
   "execution_count": null,
   "metadata": {},
   "outputs": [],
   "source": [
    "variable_list = variable_data.columns"
   ]
  },
  {
   "cell_type": "code",
   "execution_count": null,
   "metadata": {},
   "outputs": [],
   "source": [
    "variable_list"
   ]
  },
  {
   "cell_type": "code",
   "execution_count": null,
   "metadata": {},
   "outputs": [],
   "source": [
    "categorical_vars = ['Fault reference(Fault_ref:Fault ref)',\n",
    "                    '0 - Recipe driven 1 - Operator controlled(Control_ref:Control ref)',\n",
    "                    '1- No Raman spec', ' 1-Raman spec recorded',\n",
    "                    'Batch reference(Batch_ref:Batch ref)',\n",
    "                    '2-PAT control(PAT_ref:PAT ref)', 'Batch ID', 'Fault flag', '0 - Variable 1 - Fixed(Batch_length:Batch length)']\n",
    "\n",
    "variable_list_new = [var for var in variable_list if var not in categorical_vars]"
   ]
  },
  {
   "cell_type": "code",
   "execution_count": null,
   "metadata": {},
   "outputs": [],
   "source": [
    "# Configuration for plotting\n",
    "n_cols = 4\n",
    "n_plots_per_fig = 30\n",
    "n_facets = 40"
   ]
  },
  {
   "cell_type": "code",
   "execution_count": null,
   "metadata": {},
   "outputs": [],
   "source": [
    "# Create figures with subplots for all variables against Penicillin concentration\n",
    "response_var_p = 'Penicillin concentration(P:g/L)'\n",
    "\n",
    "# Filter out the reference variable from the list to avoid plotting it against itself\n",
    "variable_list_new_filtered_p = [var for var in variable_list_new if var != 'Penicillin concentration(P:g/L)' and var != 'Time (h)']"
   ]
  },
  {
   "cell_type": "code",
   "execution_count": null,
   "metadata": {},
   "outputs": [],
   "source": [
    "dropdown_update = widgets.Dropdown(options=variable_list_new, description='Variable:', value='Penicillin concentration(P:g/L)')\n",
    "output_update = widgets.Output()\n",
    "\n",
    "def update_plot(change):\n",
    "    with output_update:\n",
    "        output_update.clear_output()\n",
    "        plt.figure(figsize=(8,6))\n",
    "        sns.lineplot(data=variable_data, x='Time (h)', y=change.new, hue='Batch reference(Batch_ref:Batch ref)', palette=\"Set1\", legend=False)\n",
    "        plt.title(f'Variable: {change.new}')\n",
    "        plt.show()\n",
    "\n",
    "dropdown_update.observe(update_plot, names='value')\n",
    "display(dropdown_update, output_update)"
   ]
  },
  {
   "cell_type": "code",
   "execution_count": null,
   "metadata": {},
   "outputs": [],
   "source": [
    "# Filter out 'Time (h)' from the variable list for plotting\n",
    "variable_list_new_filtered_time = [var for var in variable_list_new if var != 'Time (h)']\n",
    "\n",
    "# Create figures with subplots for all variables\n",
    "for i in range(math.ceil(len(variable_list_new_filtered_time)/n_plots_per_fig)):\n",
    "    # Get variables for this figure\n",
    "    vars_subset = variable_list_new_filtered_time[i*n_plots_per_fig:min((i+1)*n_plots_per_fig, len(variable_list_new_filtered_time))]\n",
    "    n_rows = math.ceil(len(vars_subset)/n_cols)\n",
    "    # Create figure\n",
    "    fig, axes = plt.subplots(n_rows, n_cols, figsize=(20, 5*n_rows))\n",
    "    axes = axes.flatten()  # Flatten the axes array for easy indexing\n",
    "    # Create each subplot\n",
    "    for j, var in enumerate(vars_subset):\n",
    "        sns.lineplot(data=variable_data, x='Time (h)', y=var, hue='Batch reference(Batch_ref:Batch ref)', palette=\"Set1\", legend=False, ax=axes[j])\n",
    "        axes[j].set_title(var, fontsize=12)\n",
    "        axes[j].tick_params(labelsize=8, axis='x')\n",
    "    # Hide unused subplots\n",
    "    for k in range(len(vars_subset), len(axes)):\n",
    "        axes[k].set_visible(False)\n",
    "    # Add legend and show\n",
    "    handles, labels = axes[0].get_legend_handles_labels()\n",
    "    # fig.legend(handles, labels, loc='upper right', title='Batch reference')\n",
    "    plt.tight_layout(rect=[0, 0, 1, 0.95])\n",
    "    plt.show()"
   ]
  },
  {
   "cell_type": "code",
   "execution_count": null,
   "metadata": {},
   "outputs": [],
   "source": [
    "# Create interactive plots in batches\n",
    "for i in range(math.ceil(len(variable_list_new)/n_facets)):\n",
    "    # Select the subset of variables for this batch of plots\n",
    "    vars_subset = variable_list_new[i*n_facets:min((i+1)*n_facets, len(variable_list_new))]\n",
    "    n_rows = math.ceil(len(vars_subset)/n_cols)\n",
    "    # Create a long-form DataFrame for the selected variables\n",
    "    plot_data = variable_data.melt(id_vars=['Time (h)', 'Batch reference(Batch_ref:Batch ref)', \"Penicillin concentration(P:g/L)\"], \n",
    "                                        value_vars=vars_subset, var_name='Variable', value_name='Value')\n",
    "    # Create the interactive scatter plot\n",
    "    fig = px.scatter(plot_data, x='Time (h)', y='Value', color='Penicillin concentration(P:g/L)', \n",
    "                     facet_col='Variable', hover_name=\"Batch reference(Batch_ref:Batch ref)\", \n",
    "                     hover_data={\"Time (h)\": True, \"Value\": True, \"Penicillin concentration(P:g/L)\": True, },\n",
    "                     facet_col_wrap=4\n",
    "                     )\n",
    "    fig.update_layout(height=2000, showlegend=False)\n",
    "    fig.update_yaxes(matches=None) \n",
    "    fig.for_each_yaxis(lambda yaxis: yaxis.update(showticklabels=True))\n",
    "    plt.tight_layout()\n",
    "    fig.show()"
   ]
  },
  {
   "cell_type": "code",
   "execution_count": null,
   "metadata": {},
   "outputs": [],
   "source": [
    "fig = px.scatter(variable_data, x='Time (h)', y='Penicillin concentration(P:g/L)', \n",
    "                 color='Batch reference(Batch_ref:Batch ref)',\n",
    "                 hover_name=\"Batch reference(Batch_ref:Batch ref)\", \n",
    "                 hover_data={\"Time (h)\": True, \"Penicillin concentration(P:g/L)\": True},\n",
    "                 labels={\"Batch reference(Batch_ref:Batch ref)\": \"Batch reference\"}\n",
    "                )\n",
    "fig.update_layout(height=600, width=800)\n",
    "fig.show()"
   ]
  },
  {
   "cell_type": "code",
   "execution_count": null,
   "metadata": {},
   "outputs": [],
   "source": [
    "variable_list_filtered_p = [var for var in variable_list if var != 'Penicillin concentration(P:g/L)' and var != 'Time (h)' and \n",
    "                            var != '1- No Raman spec' and var != ' 1-Raman spec recorded' and var != 'Batch reference(Batch_ref:Batch ref)' and\n",
    "                            var != '2-PAT control(PAT_ref:PAT ref)' and var != 'Batch ID' and var != 'Fault flag']"
   ]
  },
  {
   "cell_type": "code",
   "execution_count": null,
   "metadata": {},
   "outputs": [],
   "source": [
    "# Find the peak penicillin concentration time for each batch\n",
    "def analyze_penicillin_concentration(variable_data):\n",
    "    # Group data by batch\n",
    "    results = []\n",
    "    for batch, batch_data in variable_data.groupby('Batch reference(Batch_ref:Batch ref)'):\n",
    "        batch_data = batch_data.sort_values('Time (h)')\n",
    "        # Find peak concentration and its time\n",
    "        peak_idx = batch_data['Penicillin concentration(P:g/L)'].idxmax()\n",
    "        peak_time = batch_data.loc[peak_idx, 'Time (h)']\n",
    "        peak_concentration = batch_data.loc[peak_idx, 'Penicillin concentration(P:g/L)']\n",
    "        # Calculate if concentrations declines after peak\n",
    "        last_concentration = batch_data.iloc[-1]['Penicillin concentration(P:g/L)']\n",
    "        decline = last_concentration < peak_concentration\n",
    "        # Extract process variables at peak time\n",
    "        process_vars = variable_list_filtered_p\n",
    "        var_values = {var: batch_data.loc[peak_idx, var] for var in process_vars}\n",
    "        # Store results\n",
    "        results.append({\n",
    "            'Batch': batch,\n",
    "            'Peak time (h)': peak_time,\n",
    "            'Peak concentration (g/L)': peak_concentration,\n",
    "            'Has decline': decline,\n",
    "            **var_values\n",
    "        })\n",
    "    # Create DataFrame from results\n",
    "    peak_results = pd.DataFrame(results)\n",
    "    return peak_results"
   ]
  },
  {
   "cell_type": "code",
   "execution_count": null,
   "metadata": {},
   "outputs": [],
   "source": [
    "def analyze_correlation(peak_results):\n",
    "    # Select variables for correlation\n",
    "    correlation_vars = ['Peak time (h)', 'Peak concentration (g/L)']\n",
    "    process_vars = variable_list_filtered_p\n",
    "    # Create correlation matrix\n",
    "    corr_matrix = peak_results[correlation_vars + process_vars].corr()\n",
    "    # Plot heatmap\n",
    "    plt.figure(figsize=(24, 10))\n",
    "    sns.heatmap(corr_matrix, annot=True, cmap='coolwarm', vmin=-1, vmax=1)\n",
    "    plt.title('Correlation between variables and peak penicillin concentration')\n",
    "    plt.tight_layout()\n",
    "    plt.show()"
   ]
  },
  {
   "cell_type": "code",
   "execution_count": null,
   "metadata": {},
   "outputs": [],
   "source": [
    "peak_results = analyze_penicillin_concentration(variable_data)\n",
    "peak_results"
   ]
  },
  {
   "cell_type": "code",
   "execution_count": null,
   "metadata": {},
   "outputs": [],
   "source": [
    "peak_results.info()"
   ]
  },
  {
   "cell_type": "code",
   "execution_count": null,
   "metadata": {},
   "outputs": [],
   "source": [
    "peak_results['Has decline'].value_counts()"
   ]
  },
  {
   "cell_type": "code",
   "execution_count": null,
   "metadata": {},
   "outputs": [],
   "source": [
    "analyze_correlation(peak_results)"
   ]
  },
  {
   "cell_type": "code",
   "execution_count": null,
   "metadata": {},
   "outputs": [],
   "source": [
    "peak_results[['Agitator RPM(RPM:RPM)', 'Oil flow(Foil:L/hr)', 'Ammonia shots(NH3_shots:kgs)']].describe()"
   ]
  },
  {
   "cell_type": "code",
   "execution_count": null,
   "metadata": {},
   "outputs": [],
   "source": [
    "# Create figure\n",
    "fig, axes = plt.subplots(n_rows, n_cols, figsize=(20, 5*n_rows))\n",
    "axes = axes.flatten()  # Flatten the axes array for easy indexing\n",
    "# List to store statistics\n",
    "stats_list = []\n",
    "# Create a boxplot for each variable\n",
    "for i, var in enumerate(variable_list_filtered_p):\n",
    "    sns.boxplot(data=peak_results, x='Has decline', y=var, ax=axes[i])\n",
    "    axes[i].set_xlabel('Has decline', fontsize=10)\n",
    "    axes[i].set_ylabel(var, fontsize=10)\n",
    "    # Calculate basic statistics\n",
    "    stats_dict = {'Variable': var}\n",
    "    for group in [True, False]:\n",
    "        group_data = peak_results[peak_results['Has decline'] == group][var]\n",
    "        group_name = 'Decline' if group else 'No decline'\n",
    "        stats_dict[f'{group_name} Count'] = len(group_data)\n",
    "        stats_dict[f'{group_name} Mean'] = group_data.mean()\n",
    "        stats_dict[f'{group_name} Median'] = group_data.median()\n",
    "        stats_dict[f'{group_name} Std'] = group_data.std()\n",
    "    stats_list.append(stats_dict)\n",
    "for i in range(len(variable_list_filtered_p), len(axes)):\n",
    "    axes[i].set_visible(False)\n",
    "plt.tight_layout()\n",
    "plt.show()"
   ]
  },
  {
   "cell_type": "code",
   "execution_count": null,
   "metadata": {},
   "outputs": [],
   "source": [
    "# Create and display statistics DataFrame\n",
    "stats_df = pd.DataFrame(stats_list)\n",
    "stats_df"
   ]
  },
  {
   "cell_type": "code",
   "execution_count": null,
   "metadata": {},
   "outputs": [],
   "source": []
  }
 ],
 "metadata": {
  "hide_input": true,
  "kernelspec": {
   "display_name": "base",
   "language": "python",
   "name": "python3"
  },
  "language_info": {
   "codemirror_mode": {
    "name": "ipython",
    "version": 3
   },
   "file_extension": ".py",
   "mimetype": "text/x-python",
   "name": "python",
   "nbconvert_exporter": "python",
   "pygments_lexer": "ipython3",
   "version": "3.12.3"
  },
  "toc": {
   "base_numbering": 1,
   "nav_menu": {},
   "number_sections": true,
   "sideBar": true,
   "skip_h1_title": false,
   "title_cell": "Table of Contents",
   "title_sidebar": "Contents",
   "toc_cell": false,
   "toc_position": {},
   "toc_section_display": true,
   "toc_window_display": true
  }
 },
 "nbformat": 4,
 "nbformat_minor": 2
}
