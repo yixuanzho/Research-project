{
  "cells": [
    {
      "cell_type": "markdown",
      "metadata": {
        "id": "view-in-github",
        "colab_type": "text"
      },
      "source": [
        "<a href=\"https://colab.research.google.com/github/yixuanzho/Research-project/blob/main/tests/solve_dynamic_system_test.ipynb\" target=\"_parent\"><img src=\"https://colab.research.google.com/assets/colab-badge.svg\" alt=\"Open In Colab\"/></a>"
      ]
    },
    {
      "cell_type": "code",
      "execution_count": 1,
      "metadata": {
        "id": "IfUrVvIwNCYZ"
      },
      "outputs": [],
      "source": [
        "# Dynamic Flux Balance Analysis (dFBA) in COBRApy\n",
        "# The following notebook shows a simple, but slow example of implementing dFBA using COBRApy and scipy.integrate.solve_ivp.\n",
        "# This notebook shows a static optimization approach (SOA) implementation and should not be considered production ready.\n",
        "# The model considers only basic Michaelis-Menten limited growth on glucose.\n",
        "import arviz as az\n",
        "import numpy as np\n",
        "import pandas as pd\n",
        "import pymc as pm\n",
        "import pytensor\n",
        "import pytensor.tensor as pt\n",
        "from tqdm import tqdm\n",
        "\n",
        "from numba import njit\n",
        "from pytensor.compile.ops import as_op\n",
        "from scipy.integrate import solve_ivp\n",
        "\n",
        "import matplotlib.pyplot as plt\n",
        "# %matplotlib inline\n"
      ]
    },
    {
      "cell_type": "code",
      "execution_count": 2,
      "metadata": {
        "id": "BAVxDeB3NCYb"
      },
      "outputs": [],
      "source": [
        "# %load_ext watermark\n",
        "az.style.use(\"arviz-darkgrid\")\n",
        "rng = np.random.default_rng(1234)\n",
        "plt.ioff()  # turn off interactive plotting\n",
        "output_messages = []  # store printed output\n"
      ]
    },
    {
      "cell_type": "code",
      "execution_count": 3,
      "metadata": {
        "id": "RMq-GunaNCYb"
      },
      "outputs": [],
      "source": [
        "# Create or load a cobrapy model. Here, we use the ‘textbook’ e-coli core model.\n",
        "import cobra\n",
        "from cobra.io import load_model\n",
        "cobra_model = load_model('textbook')\n"
      ]
    },
    {
      "cell_type": "code",
      "execution_count": 4,
      "metadata": {
        "id": "QBHoU43BNCYc"
      },
      "outputs": [],
      "source": [
        "# Set up the dynamic system\n",
        "# Dynamic flux balance analysis couples a dynamic system in external cellular concentrations to a pseudo-steady state metabolic model.\n",
        "# In this notebook, we define the function add_dynamic_bounds(model, y) to convert the external metabolite concentrations into bounds on the boundary fluxes in the metabolic model.\n",
        "def add_dynamic_bounds(cobra_model, y, parameters):\n",
        "    \"\"\"Use external concentrations to bound the uptake flux of glucose.\"\"\"\n",
        "    biomass, glucose = y  # expand the boundary species\n",
        "    # Assumption: Michaelis-Menten kinetics for glucose uptake\n",
        "    # V = maximum reaction rate\n",
        "    # Km = Michaelis constant, which represents the substrate concentration at which the reaction rate is half of V.\n",
        "    V, Km = parameters\n",
        "    glucose_max_import = -V * glucose / (Km + glucose)\n",
        "    cobra_model.reactions.EX_glc__D_e.lower_bound = glucose_max_import\n",
        "\n",
        "\n",
        "def dynamic_system(t, y, parameters):\n",
        "    \"\"\"Calculate the time derivative of external species.\"\"\"\n",
        "\n",
        "    biomass, glucose = y  # expand the boundary species\n",
        "\n",
        "    # Calculate the specific exchanges fluxes at the given external concentrations.\n",
        "    with cobra_model:\n",
        "        add_dynamic_bounds(cobra_model, y, parameters)\n",
        "\n",
        "        cobra.util.add_lp_feasibility(cobra_model)\n",
        "        feasibility = cobra.util.fix_objective_as_constraint(cobra_model)\n",
        "        lex_constraints = cobra.util.add_lexicographic_constraints(\n",
        "            cobra_model, ['Biomass_Ecoli_core', 'EX_glc__D_e'], ['max', 'max'])\n",
        "\n",
        "    # Since the calculated fluxes are specific rates, we multiply them by the\n",
        "    # biomass concentration to get the bulk exchange rates.\n",
        "    fluxes = lex_constraints.values\n",
        "    fluxes *= biomass\n",
        "\n",
        "    # This implementation is **not** efficient, so I display the current\n",
        "    # simulation time using a progress bar.\n",
        "    if dynamic_system.pbar is not None:\n",
        "        dynamic_system.pbar.update(1)\n",
        "        dynamic_system.pbar.set_description('t = {:.3f}'.format(t))\n",
        "\n",
        "    return fluxes\n",
        "\n",
        "dynamic_system.pbar = None\n",
        "\n",
        "\n",
        "def infeasible_event(t, y, parameters):\n",
        "    \"\"\"\n",
        "    Determine solution feasibility.\n",
        "\n",
        "    Avoiding infeasible solutions is handled by solve_ivp's built-in event detection.\n",
        "    This function re-solves the LP to determine whether or not the solution is feasible\n",
        "    (and if not, how far it is from feasibility). When the sign of this function changes\n",
        "    from -epsilon to positive, we know the solution is no longer feasible.\n",
        "\n",
        "    \"\"\"\n",
        "\n",
        "    with cobra_model:\n",
        "\n",
        "        add_dynamic_bounds(cobra_model, y, parameters)\n",
        "\n",
        "        cobra.util.add_lp_feasibility(cobra_model)\n",
        "        feasibility = cobra.util.fix_objective_as_constraint(cobra_model)\n",
        "\n",
        "    return feasibility - infeasible_event.epsilon\n",
        "\n",
        "infeasible_event.epsilon = 1E-6\n",
        "infeasible_event.direction = 1\n",
        "infeasible_event.terminal = True\n"
      ]
    },
    {
      "cell_type": "code",
      "execution_count": 5,
      "metadata": {
        "id": "QO24TqGYNCYc"
      },
      "outputs": [],
      "source": [
        "# Set up the simulation\n",
        "def solve_dynamic_system(parameters):\n",
        "\n",
        "    # with tqdm() as pbar:\n",
        "        # dynamic_system.pbar = pbar\n",
        "\n",
        "        V, Km = parameters\n",
        "\n",
        "        sol = solve_ivp(\n",
        "            fun=dynamic_system,\n",
        "            events=[infeasible_event],\n",
        "            t_span=(ts.min(), ts.max()),\n",
        "            y0=y0,\n",
        "            t_eval=ts,\n",
        "            rtol=1e-6,\n",
        "            atol=1e-8,\n",
        "            method='BDF',\n",
        "            args=(parameters,)\n",
        "        )\n",
        "\n",
        "        return sol\n"
      ]
    },
    {
      "cell_type": "code",
      "execution_count": 6,
      "metadata": {
        "id": "fiblR3osNCYc"
      },
      "outputs": [],
      "source": [
        "# Run the dynamic FBA simulation\n",
        "ts = np.linspace(0, 15, 100)  # Desired integration resolution and interval\n",
        "y0 = [0.1, 10]  # Initial conditions for biomass and glucose\n",
        "parameters = [10, 5]  # Parameters for the Michaelis-Menten kinetics\n",
        "\n",
        "sol = solve_dynamic_system(parameters)\n"
      ]
    },
    {
      "cell_type": "code",
      "execution_count": 7,
      "metadata": {
        "colab": {
          "base_uri": "https://localhost:8080/"
        },
        "id": "TykxZYiONCYc",
        "outputId": "4edc125a-7c7a-4e3d-91bc-65e17752c12f"
      },
      "outputs": [
        {
          "output_type": "execute_result",
          "data": {
            "text/plain": [
              "  message: A termination event occurred.\n",
              "  success: True\n",
              "   status: 1\n",
              "        t: [ 0.000e+00  1.515e-01 ...  5.606e+00  5.758e+00]\n",
              "        y: [[ 1.000e-01  1.090e-01 ...  8.715e-01  8.727e-01]\n",
              "            [ 1.000e+01  9.895e+00 ...  3.476e-01  2.710e-01]]\n",
              "      sol: None\n",
              " t_events: [array([ 5.802e+00])]\n",
              " y_events: [array([[ 8.728e-01,  2.518e-01]])]\n",
              "     nfev: 179\n",
              "     njev: 2\n",
              "      nlu: 14"
            ]
          },
          "metadata": {},
          "execution_count": 7
        }
      ],
      "source": [
        "# Because the culture runs out of glucose, the simulation terminates early.\n",
        "# The exact time of this ‘cell death’ is recorded in sol.t_events.\n",
        "sol\n"
      ]
    },
    {
      "cell_type": "code",
      "execution_count": 8,
      "metadata": {
        "id": "orGtibZANCYc"
      },
      "outputs": [],
      "source": [
        "# Plot timelines of biomass and glucose\n",
        "# ax = plt.subplot(111)\n",
        "# ax.plot(sol.t, sol.y.T[:, 0], color='b')\n",
        "# ax2 = plt.twinx(ax)\n",
        "# ax2.plot(sol.t, sol.y.T[:, 1], color='r')\n",
        "\n",
        "# ax.set_ylabel('Biomass', color='b')\n",
        "# ax2.set_ylabel('Glucose', color='r')\n",
        "# plt.show()\n"
      ]
    },
    {
      "cell_type": "code",
      "execution_count": 9,
      "metadata": {
        "colab": {
          "base_uri": "https://localhost:8080/",
          "height": 206
        },
        "id": "lXeoy0YsNCYd",
        "outputId": "42cd8e08-df30-47a1-aa5c-af3738401afb"
      },
      "outputs": [
        {
          "output_type": "execute_result",
          "data": {
            "text/plain": [
              "       time   biomass    glucose\n",
              "0  0.000000  0.100000  10.000000\n",
              "1  0.151515  0.108976   9.894703\n",
              "2  0.303030  0.118717   9.780402\n",
              "3  0.454545  0.129279   9.656422\n",
              "4  0.606061  0.140723   9.522053"
            ],
            "text/html": [
              "\n",
              "  <div id=\"df-6588982d-ef16-44ad-b78c-fcf806d77939\" class=\"colab-df-container\">\n",
              "    <div>\n",
              "<style scoped>\n",
              "    .dataframe tbody tr th:only-of-type {\n",
              "        vertical-align: middle;\n",
              "    }\n",
              "\n",
              "    .dataframe tbody tr th {\n",
              "        vertical-align: top;\n",
              "    }\n",
              "\n",
              "    .dataframe thead th {\n",
              "        text-align: right;\n",
              "    }\n",
              "</style>\n",
              "<table border=\"1\" class=\"dataframe\">\n",
              "  <thead>\n",
              "    <tr style=\"text-align: right;\">\n",
              "      <th></th>\n",
              "      <th>time</th>\n",
              "      <th>biomass</th>\n",
              "      <th>glucose</th>\n",
              "    </tr>\n",
              "  </thead>\n",
              "  <tbody>\n",
              "    <tr>\n",
              "      <th>0</th>\n",
              "      <td>0.000000</td>\n",
              "      <td>0.100000</td>\n",
              "      <td>10.000000</td>\n",
              "    </tr>\n",
              "    <tr>\n",
              "      <th>1</th>\n",
              "      <td>0.151515</td>\n",
              "      <td>0.108976</td>\n",
              "      <td>9.894703</td>\n",
              "    </tr>\n",
              "    <tr>\n",
              "      <th>2</th>\n",
              "      <td>0.303030</td>\n",
              "      <td>0.118717</td>\n",
              "      <td>9.780402</td>\n",
              "    </tr>\n",
              "    <tr>\n",
              "      <th>3</th>\n",
              "      <td>0.454545</td>\n",
              "      <td>0.129279</td>\n",
              "      <td>9.656422</td>\n",
              "    </tr>\n",
              "    <tr>\n",
              "      <th>4</th>\n",
              "      <td>0.606061</td>\n",
              "      <td>0.140723</td>\n",
              "      <td>9.522053</td>\n",
              "    </tr>\n",
              "  </tbody>\n",
              "</table>\n",
              "</div>\n",
              "    <div class=\"colab-df-buttons\">\n",
              "\n",
              "  <div class=\"colab-df-container\">\n",
              "    <button class=\"colab-df-convert\" onclick=\"convertToInteractive('df-6588982d-ef16-44ad-b78c-fcf806d77939')\"\n",
              "            title=\"Convert this dataframe to an interactive table.\"\n",
              "            style=\"display:none;\">\n",
              "\n",
              "  <svg xmlns=\"http://www.w3.org/2000/svg\" height=\"24px\" viewBox=\"0 -960 960 960\">\n",
              "    <path d=\"M120-120v-720h720v720H120Zm60-500h600v-160H180v160Zm220 220h160v-160H400v160Zm0 220h160v-160H400v160ZM180-400h160v-160H180v160Zm440 0h160v-160H620v160ZM180-180h160v-160H180v160Zm440 0h160v-160H620v160Z\"/>\n",
              "  </svg>\n",
              "    </button>\n",
              "\n",
              "  <style>\n",
              "    .colab-df-container {\n",
              "      display:flex;\n",
              "      gap: 12px;\n",
              "    }\n",
              "\n",
              "    .colab-df-convert {\n",
              "      background-color: #E8F0FE;\n",
              "      border: none;\n",
              "      border-radius: 50%;\n",
              "      cursor: pointer;\n",
              "      display: none;\n",
              "      fill: #1967D2;\n",
              "      height: 32px;\n",
              "      padding: 0 0 0 0;\n",
              "      width: 32px;\n",
              "    }\n",
              "\n",
              "    .colab-df-convert:hover {\n",
              "      background-color: #E2EBFA;\n",
              "      box-shadow: 0px 1px 2px rgba(60, 64, 67, 0.3), 0px 1px 3px 1px rgba(60, 64, 67, 0.15);\n",
              "      fill: #174EA6;\n",
              "    }\n",
              "\n",
              "    .colab-df-buttons div {\n",
              "      margin-bottom: 4px;\n",
              "    }\n",
              "\n",
              "    [theme=dark] .colab-df-convert {\n",
              "      background-color: #3B4455;\n",
              "      fill: #D2E3FC;\n",
              "    }\n",
              "\n",
              "    [theme=dark] .colab-df-convert:hover {\n",
              "      background-color: #434B5C;\n",
              "      box-shadow: 0px 1px 3px 1px rgba(0, 0, 0, 0.15);\n",
              "      filter: drop-shadow(0px 1px 2px rgba(0, 0, 0, 0.3));\n",
              "      fill: #FFFFFF;\n",
              "    }\n",
              "  </style>\n",
              "\n",
              "    <script>\n",
              "      const buttonEl =\n",
              "        document.querySelector('#df-6588982d-ef16-44ad-b78c-fcf806d77939 button.colab-df-convert');\n",
              "      buttonEl.style.display =\n",
              "        google.colab.kernel.accessAllowed ? 'block' : 'none';\n",
              "\n",
              "      async function convertToInteractive(key) {\n",
              "        const element = document.querySelector('#df-6588982d-ef16-44ad-b78c-fcf806d77939');\n",
              "        const dataTable =\n",
              "          await google.colab.kernel.invokeFunction('convertToInteractive',\n",
              "                                                    [key], {});\n",
              "        if (!dataTable) return;\n",
              "\n",
              "        const docLinkHtml = 'Like what you see? Visit the ' +\n",
              "          '<a target=\"_blank\" href=https://colab.research.google.com/notebooks/data_table.ipynb>data table notebook</a>'\n",
              "          + ' to learn more about interactive tables.';\n",
              "        element.innerHTML = '';\n",
              "        dataTable['output_type'] = 'display_data';\n",
              "        await google.colab.output.renderOutput(dataTable, element);\n",
              "        const docLink = document.createElement('div');\n",
              "        docLink.innerHTML = docLinkHtml;\n",
              "        element.appendChild(docLink);\n",
              "      }\n",
              "    </script>\n",
              "  </div>\n",
              "\n",
              "\n",
              "<div id=\"df-5d50feed-8600-45c2-9f41-2dbab799511c\">\n",
              "  <button class=\"colab-df-quickchart\" onclick=\"quickchart('df-5d50feed-8600-45c2-9f41-2dbab799511c')\"\n",
              "            title=\"Suggest charts\"\n",
              "            style=\"display:none;\">\n",
              "\n",
              "<svg xmlns=\"http://www.w3.org/2000/svg\" height=\"24px\"viewBox=\"0 0 24 24\"\n",
              "     width=\"24px\">\n",
              "    <g>\n",
              "        <path d=\"M19 3H5c-1.1 0-2 .9-2 2v14c0 1.1.9 2 2 2h14c1.1 0 2-.9 2-2V5c0-1.1-.9-2-2-2zM9 17H7v-7h2v7zm4 0h-2V7h2v10zm4 0h-2v-4h2v4z\"/>\n",
              "    </g>\n",
              "</svg>\n",
              "  </button>\n",
              "\n",
              "<style>\n",
              "  .colab-df-quickchart {\n",
              "      --bg-color: #E8F0FE;\n",
              "      --fill-color: #1967D2;\n",
              "      --hover-bg-color: #E2EBFA;\n",
              "      --hover-fill-color: #174EA6;\n",
              "      --disabled-fill-color: #AAA;\n",
              "      --disabled-bg-color: #DDD;\n",
              "  }\n",
              "\n",
              "  [theme=dark] .colab-df-quickchart {\n",
              "      --bg-color: #3B4455;\n",
              "      --fill-color: #D2E3FC;\n",
              "      --hover-bg-color: #434B5C;\n",
              "      --hover-fill-color: #FFFFFF;\n",
              "      --disabled-bg-color: #3B4455;\n",
              "      --disabled-fill-color: #666;\n",
              "  }\n",
              "\n",
              "  .colab-df-quickchart {\n",
              "    background-color: var(--bg-color);\n",
              "    border: none;\n",
              "    border-radius: 50%;\n",
              "    cursor: pointer;\n",
              "    display: none;\n",
              "    fill: var(--fill-color);\n",
              "    height: 32px;\n",
              "    padding: 0;\n",
              "    width: 32px;\n",
              "  }\n",
              "\n",
              "  .colab-df-quickchart:hover {\n",
              "    background-color: var(--hover-bg-color);\n",
              "    box-shadow: 0 1px 2px rgba(60, 64, 67, 0.3), 0 1px 3px 1px rgba(60, 64, 67, 0.15);\n",
              "    fill: var(--button-hover-fill-color);\n",
              "  }\n",
              "\n",
              "  .colab-df-quickchart-complete:disabled,\n",
              "  .colab-df-quickchart-complete:disabled:hover {\n",
              "    background-color: var(--disabled-bg-color);\n",
              "    fill: var(--disabled-fill-color);\n",
              "    box-shadow: none;\n",
              "  }\n",
              "\n",
              "  .colab-df-spinner {\n",
              "    border: 2px solid var(--fill-color);\n",
              "    border-color: transparent;\n",
              "    border-bottom-color: var(--fill-color);\n",
              "    animation:\n",
              "      spin 1s steps(1) infinite;\n",
              "  }\n",
              "\n",
              "  @keyframes spin {\n",
              "    0% {\n",
              "      border-color: transparent;\n",
              "      border-bottom-color: var(--fill-color);\n",
              "      border-left-color: var(--fill-color);\n",
              "    }\n",
              "    20% {\n",
              "      border-color: transparent;\n",
              "      border-left-color: var(--fill-color);\n",
              "      border-top-color: var(--fill-color);\n",
              "    }\n",
              "    30% {\n",
              "      border-color: transparent;\n",
              "      border-left-color: var(--fill-color);\n",
              "      border-top-color: var(--fill-color);\n",
              "      border-right-color: var(--fill-color);\n",
              "    }\n",
              "    40% {\n",
              "      border-color: transparent;\n",
              "      border-right-color: var(--fill-color);\n",
              "      border-top-color: var(--fill-color);\n",
              "    }\n",
              "    60% {\n",
              "      border-color: transparent;\n",
              "      border-right-color: var(--fill-color);\n",
              "    }\n",
              "    80% {\n",
              "      border-color: transparent;\n",
              "      border-right-color: var(--fill-color);\n",
              "      border-bottom-color: var(--fill-color);\n",
              "    }\n",
              "    90% {\n",
              "      border-color: transparent;\n",
              "      border-bottom-color: var(--fill-color);\n",
              "    }\n",
              "  }\n",
              "</style>\n",
              "\n",
              "  <script>\n",
              "    async function quickchart(key) {\n",
              "      const quickchartButtonEl =\n",
              "        document.querySelector('#' + key + ' button');\n",
              "      quickchartButtonEl.disabled = true;  // To prevent multiple clicks.\n",
              "      quickchartButtonEl.classList.add('colab-df-spinner');\n",
              "      try {\n",
              "        const charts = await google.colab.kernel.invokeFunction(\n",
              "            'suggestCharts', [key], {});\n",
              "      } catch (error) {\n",
              "        console.error('Error during call to suggestCharts:', error);\n",
              "      }\n",
              "      quickchartButtonEl.classList.remove('colab-df-spinner');\n",
              "      quickchartButtonEl.classList.add('colab-df-quickchart-complete');\n",
              "    }\n",
              "    (() => {\n",
              "      let quickchartButtonEl =\n",
              "        document.querySelector('#df-5d50feed-8600-45c2-9f41-2dbab799511c button');\n",
              "      quickchartButtonEl.style.display =\n",
              "        google.colab.kernel.accessAllowed ? 'block' : 'none';\n",
              "    })();\n",
              "  </script>\n",
              "</div>\n",
              "\n",
              "    </div>\n",
              "  </div>\n"
            ],
            "application/vnd.google.colaboratory.intrinsic+json": {
              "type": "dataframe",
              "variable_name": "data",
              "summary": "{\n  \"name\": \"data\",\n  \"rows\": 39,\n  \"fields\": [\n    {\n      \"column\": \"time\",\n      \"properties\": {\n        \"dtype\": \"number\",\n        \"std\": 1.7275385228774822,\n        \"min\": 0.0,\n        \"max\": 5.757575757575758,\n        \"num_unique_values\": 39,\n        \"samples\": [\n          5.0,\n          5.454545454545455,\n          0.6060606060606061\n        ],\n        \"semantic_type\": \"\",\n        \"description\": \"\"\n      }\n    },\n    {\n      \"column\": \"biomass\",\n      \"properties\": {\n        \"dtype\": \"number\",\n        \"std\": 0.275753078519737,\n        \"min\": 0.1,\n        \"max\": 0.8727422964591917,\n        \"num_unique_values\": 39,\n        \"samples\": [\n          0.8446716472929677,\n          0.868438127605729,\n          0.14072253612830896\n        ],\n        \"semantic_type\": \"\",\n        \"description\": \"\"\n      }\n    },\n    {\n      \"column\": \"glucose\",\n      \"properties\": {\n        \"dtype\": \"number\",\n        \"std\": 3.3952415777102023,\n        \"min\": 0.2710006468793429,\n        \"max\": 10.0,\n        \"num_unique_values\": 39,\n        \"samples\": [\n          0.8867050159356942,\n          0.4438778139362948,\n          9.522053338956825\n        ],\n        \"semantic_type\": \"\",\n        \"description\": \"\"\n      }\n    }\n  ]\n}"
            }
          },
          "metadata": {},
          "execution_count": 9
        }
      ],
      "source": [
        "# Store the simulation results in a pandas DataFrame\n",
        "data = pd.DataFrame(dict(time=sol.t, biomass=sol.y[0], glucose=sol.y[1]))\n",
        "data.head()\n"
      ]
    },
    {
      "cell_type": "code",
      "execution_count": 10,
      "metadata": {
        "id": "521YaLreNCYd"
      },
      "outputs": [],
      "source": [
        "# Gradient-Free Sampler Options\n",
        "# Like other Numpy or Scipy-based functions, the scipy.integrate.solve_ivp function cannot be used directly in a PyMC model\n",
        "# because PyMC needs to know the variable input and output types to compile.\n",
        "# Therefore, we use a Pytensor wrapper to give the variable types to PyMC.\n",
        "# Then the function can be used in PyMC in conjunction with gradient-free samplers.\n",
        "\n",
        "# Convert Python Function to a Pytensor Operator using @as_op decorator\n",
        "# We tell PyMC the input variable types and the output variable types using the @as_op decorator.\n",
        "# solve_ivp returns Numpy arrays, but we tell PyMC that they are Pytensor double float tensors for this purpose.\n",
        "\n",
        "# Remember, when using @as_op with PyMC, the function becomes a \"black box\" to PyMC, meaning it can't compute gradients through it.\n",
        "# This limits you to using gradient-free samplers.\n",
        "\n",
        "# decorator with input and output types a Pytensor double float tensors\n",
        "@as_op(itypes=[pt.dvector, pt.dvector], otypes=[pt.dmatrix])\n",
        "def pytensor_model(parameters, y0):\n",
        "    # with tqdm() as pbar:\n",
        "        # dynamic_system.pbar = pbar\n",
        "\n",
        "        V, Km = parameters\n",
        "\n",
        "        sol = solve_ivp(\n",
        "            fun=dynamic_system,\n",
        "            events=[infeasible_event],\n",
        "            t_span=(ts.min(), ts.max()),\n",
        "            y0=y0,\n",
        "            t_eval=ts,\n",
        "            rtol=1e-6,\n",
        "            atol=1e-8,\n",
        "            method='BDF',\n",
        "            args=(parameters,)\n",
        "        )\n",
        "\n",
        "        # Important: Ensure we return the same dimensions as our data\n",
        "        # Create a result array of the same shape as the data\n",
        "        result = np.zeros_like(data[[\"biomass\", \"glucose\"]].values)\n",
        "\n",
        "        # Fill in the values we have (might be fewer than expected due to early termination)\n",
        "        rows_to_fill = min(len(sol.t), result.shape[0])\n",
        "        result[:rows_to_fill, 0] = sol.y[0, :rows_to_fill]\n",
        "        result[:rows_to_fill, 1] = sol.y[1, :rows_to_fill]\n",
        "\n",
        "        return result\n"
      ]
    },
    {
      "cell_type": "code",
      "execution_count": 11,
      "metadata": {
        "id": "xecs4z1jNCYd"
      },
      "outputs": [],
      "source": [
        "# PyMC Model\n",
        "# Now, we can specify the PyMC model using the ODE solver.\n",
        "# For priors, we will use the manually set values: parameters = [10, 5] for V and Km,\n",
        "# and y0 = [0.1, 10] for initial biomass and glucose concentrations.\n",
        "# These are empirically derived weakly informative priors that are constrained to be positive.\n",
        "# We will use a normal likelihood on untransformed data (i.e., not log transformed) to best fit the peaks of the data.\n",
        "\n",
        "with pm.Model() as model:\n",
        "    # Priors for kinetic parameters and initial conditions\n",
        "    V = pm.TruncatedNormal(\"V\", mu=parameters[0], sigma=1.0, lower=0, initval=parameters[0])\n",
        "    Km = pm.TruncatedNormal(\"Km\", mu=parameters[1], sigma=0.5, lower=0, initval=parameters[1])\n",
        "    biomassT0 = pm.TruncatedNormal(\"biomassT0\", mu=y0[0], sigma=1, lower=0, initval=y0[0])\n",
        "    glucoseT0 = pm.TruncatedNormal(\"glucoseT0\", mu=y0[1], sigma=1, lower=0, initval=y0[1])\n",
        "    sigma = pm.HalfNormal(\"sigma\", 10)\n",
        "\n",
        "    # Ode solution function\n",
        "    ode_solution = pytensor_model(\n",
        "        pm.math.stack([V, Km]),\n",
        "        pm.math.stack([biomassT0, glucoseT0])\n",
        "    )\n",
        "\n",
        "    # Likelihood\n",
        "    pm.Normal(\"Y_obs\", mu=ode_solution, sigma=sigma, observed=data[[\"biomass\", \"glucose\"]].values)\n"
      ]
    },
    {
      "cell_type": "code",
      "execution_count": 12,
      "metadata": {
        "id": "rsibKMpKNCYd"
      },
      "outputs": [],
      "source": [
        "# pm.model_to_graphviz(model=model)\n"
      ]
    },
    {
      "cell_type": "code",
      "execution_count": 13,
      "metadata": {
        "id": "ADlJ1a7wNCYd"
      },
      "outputs": [],
      "source": [
        "# Gradient-Free Sampler Options\n",
        "# Having good gradient free samplers can open up the models that can be fit within PyMC. There are five options for gradient-free samplers in PyMC that are applicable to this problem (?):\n",
        "# Slice - the default gradient-free sampler\n",
        "# DEMetropolisZ - a differential evolution Metropolis sampler that uses the past to inform sampling jumps\n",
        "# DEMetropolis - a differential evolution Metropolis sampler\n",
        "# Metropolis - the vanilla Metropolis sampler\n",
        "# SMC - Sequential Monte Carlo\n",
        "\n",
        "# A few notes on running these inferences.\n",
        "# For each sampler, the number of tuning steps and draws have been reduced to run the inference in a reasonable amount of time (on the order of minutes).\n",
        "# This is not a sufficient number of draws to get a good inferences, in some cases, but it works for demonstration purposes.\n",
        "# In addition, multicore processing was not working for the Pytensor op function on all machines, so inference is performed on one core.\n"
      ]
    },
    {
      "cell_type": "code",
      "execution_count": 14,
      "metadata": {
        "id": "ZWbgASs-NCYd"
      },
      "outputs": [],
      "source": [
        "# Slice Sampler\n",
        "# Variable list to give to the sample step parameter\n",
        "vars_list = list(model.values_to_rvs.keys())[:-1]\n"
      ]
    },
    {
      "cell_type": "code",
      "execution_count": 15,
      "metadata": {
        "colab": {
          "base_uri": "https://localhost:8080/",
          "height": 425,
          "referenced_widgets": [
            "4cc97388b6284ffab8be9436b31971f5",
            "9a2ee3bed6a0458f9b25e2ad024ceb81"
          ]
        },
        "id": "CFl2DdwXNCYd",
        "outputId": "2f2f0ba0-4173-4ce9-ee62-bc59861357ee"
      },
      "outputs": [
        {
          "output_type": "stream",
          "name": "stderr",
          "text": [
            "WARNING:pymc.sampling.mcmc:Only 10 samples per chain. Reliable r-hat and ESS diagnostics require longer chains for accurate estimate.\n"
          ]
        },
        {
          "output_type": "display_data",
          "data": {
            "text/plain": [
              "Output()"
            ],
            "application/vnd.jupyter.widget-view+json": {
              "version_major": 2,
              "version_minor": 0,
              "model_id": "4cc97388b6284ffab8be9436b31971f5"
            }
          },
          "metadata": {}
        },
        {
          "output_type": "display_data",
          "data": {
            "text/plain": [],
            "text/html": [
              "<pre style=\"white-space:pre;overflow-x:auto;line-height:normal;font-family:Menlo,'DejaVu Sans Mono',consolas,'Courier New',monospace\"></pre>\n"
            ]
          },
          "metadata": {}
        },
        {
          "output_type": "stream",
          "name": "stdout",
          "text": [
            "\n",
            "Sampling summary:\n",
            "             mean     sd  hdi_3%  hdi_97%  mcse_mean  mcse_sd  ess_bulk  \\\n",
            "Km          4.474  0.539   3.949    5.000      0.241    0.182       5.0   \n",
            "V          10.582  0.428  10.075   10.997      0.191    0.144       5.0   \n",
            "biomassT0   0.074  0.004   0.067    0.079      0.002    0.001       5.0   \n",
            "glucoseT0  10.437  0.374  10.072   10.802      0.167    0.126       5.0   \n",
            "sigma       0.500  0.425   0.173    1.488      0.181    0.136       5.0   \n",
            "\n",
            "           ess_tail        r_hat  \n",
            "Km              5.0  92155435.79  \n",
            "V               7.0         3.34  \n",
            "biomassT0       5.0         4.92  \n",
            "glucoseT0       5.0  92155435.79  \n",
            "sigma          20.0         3.70  \n"
          ]
        },
        {
          "output_type": "stream",
          "name": "stderr",
          "text": [
            "/usr/local/lib/python3.11/dist-packages/arviz/stats/diagnostics.py:596: RuntimeWarning: invalid value encountered in scalar divide\n",
            "  (between_chain_variance / within_chain_variance + num_samples - 1) / (num_samples)\n"
          ]
        }
      ],
      "source": [
        "\n",
        "# Specify the sampler\n",
        "# sampler = \"Slice Sampler\"  # The Slice sampler was very slow\n",
        "# tune = draws = 100\n",
        "\n",
        "sampler = \"DEMetropolisZ\"  # Use Metropolis instead\n",
        "tune = draws = 10  # Start with minimal tuning and draws for demonstration purposes\n",
        "\n",
        "# Inference!\n",
        "if __name__ == '__main__':\n",
        "    with model:\n",
        "        trace_slice = pm.sample(step=[pm.Metropolis(vars_list)], tune=tune, draws=draws)\n",
        "    trace = trace_slice\n",
        "    summary = az.summary(trace)\n",
        "\n",
        "    output_messages.append(\"\\nSampling summary:\")\n",
        "    output_messages.append(str(summary))\n",
        "\n",
        "    print(\"\\n\".join(output_messages))\n",
        "\n",
        "    # az.plot_trace(trace, kind=\"rank_bars\")\n",
        "    # plt.suptitle(f\"Trace Plot {sampler}\");\n",
        "\n",
        "    # fig, ax = plt.subplots(figsize=(12, 4))\n",
        "    # plot_inference(ax, trace, title=f\"Data and Inference Model Runs\\n{sampler} Sampler\");\n",
        "\n",
        "    # plt.show(block=True)\n",
        "\n"
      ]
    }
  ],
  "metadata": {
    "language_info": {
      "name": "python"
    },
    "colab": {
      "provenance": [],
      "gpuType": "T4",
      "include_colab_link": true
    },
    "accelerator": "GPU",
    "kernelspec": {
      "name": "python3",
      "display_name": "Python 3"
    },
    "widgets": {
      "application/vnd.jupyter.widget-state+json": {
        "4cc97388b6284ffab8be9436b31971f5": {
          "model_module": "@jupyter-widgets/output",
          "model_name": "OutputModel",
          "model_module_version": "1.0.0",
          "state": {
            "_dom_classes": [],
            "_model_module": "@jupyter-widgets/output",
            "_model_module_version": "1.0.0",
            "_model_name": "OutputModel",
            "_view_count": null,
            "_view_module": "@jupyter-widgets/output",
            "_view_module_version": "1.0.0",
            "_view_name": "OutputView",
            "layout": "IPY_MODEL_9a2ee3bed6a0458f9b25e2ad024ceb81",
            "msg_id": "",
            "outputs": [
              {
                "output_type": "display_data",
                "data": {
                  "text/plain": "                                                                                                                   \n \u001b[1m \u001b[0m\u001b[1mProgress                       \u001b[0m\u001b[1m \u001b[0m \u001b[1m \u001b[0m\u001b[1mDraws\u001b[0m\u001b[1m \u001b[0m \u001b[1m \u001b[0m\u001b[1mTuning\u001b[0m\u001b[1m \u001b[0m \u001b[1m \u001b[0m\u001b[1mScaling\u001b[0m\u001b[1m \u001b[0m \u001b[1m \u001b[0m\u001b[1mAccept Rate\u001b[0m\u001b[1m \u001b[0m \u001b[1m \u001b[0m\u001b[1mSampling Speed\u001b[0m\u001b[1m \u001b[0m \u001b[1m \u001b[0m\u001b[1mElapsed\u001b[0m\u001b[1m \u001b[0m \u001b[1m \u001b[0m\u001b[1mRemaining\u001b[0m\u001b[1m \u001b[0m \n ───────────────────────────────────────────────────────────────────────────────────────────────────────────────── \n  \u001b[38;2;31;119;180m━━━━━━━━━━━━━━━━━━━━━━━━━━━━━━━\u001b[0m   20      False    1.00      4.86          254.79 s/draws   1:20:40   0:00:00    \n  \u001b[38;2;31;119;180m━━━━━━━━━━━━━━━━━━━━━━━━━━━━━━━\u001b[0m   20      False    1.00      0.02          520.10 s/draws   2:44:41   0:00:00    \n                                                                                                                   \n",
                  "text/html": "<pre style=\"white-space:pre;overflow-x:auto;line-height:normal;font-family:Menlo,'DejaVu Sans Mono',consolas,'Courier New',monospace\">                                                                                                                   \n <span style=\"font-weight: bold\"> Progress                        </span> <span style=\"font-weight: bold\"> Draws </span> <span style=\"font-weight: bold\"> Tuning </span> <span style=\"font-weight: bold\"> Scaling </span> <span style=\"font-weight: bold\"> Accept Rate </span> <span style=\"font-weight: bold\"> Sampling Speed </span> <span style=\"font-weight: bold\"> Elapsed </span> <span style=\"font-weight: bold\"> Remaining </span> \n ───────────────────────────────────────────────────────────────────────────────────────────────────────────────── \n  <span style=\"color: #1f77b4; text-decoration-color: #1f77b4\">━━━━━━━━━━━━━━━━━━━━━━━━━━━━━━━</span>   20      False    1.00      4.86          254.79 s/draws   1:20:40   0:00:00    \n  <span style=\"color: #1f77b4; text-decoration-color: #1f77b4\">━━━━━━━━━━━━━━━━━━━━━━━━━━━━━━━</span>   20      False    1.00      0.02          520.10 s/draws   2:44:41   0:00:00    \n                                                                                                                   \n</pre>\n"
                },
                "metadata": {}
              }
            ]
          }
        },
        "9a2ee3bed6a0458f9b25e2ad024ceb81": {
          "model_module": "@jupyter-widgets/base",
          "model_name": "LayoutModel",
          "model_module_version": "1.2.0",
          "state": {
            "_model_module": "@jupyter-widgets/base",
            "_model_module_version": "1.2.0",
            "_model_name": "LayoutModel",
            "_view_count": null,
            "_view_module": "@jupyter-widgets/base",
            "_view_module_version": "1.2.0",
            "_view_name": "LayoutView",
            "align_content": null,
            "align_items": null,
            "align_self": null,
            "border": null,
            "bottom": null,
            "display": null,
            "flex": null,
            "flex_flow": null,
            "grid_area": null,
            "grid_auto_columns": null,
            "grid_auto_flow": null,
            "grid_auto_rows": null,
            "grid_column": null,
            "grid_gap": null,
            "grid_row": null,
            "grid_template_areas": null,
            "grid_template_columns": null,
            "grid_template_rows": null,
            "height": null,
            "justify_content": null,
            "justify_items": null,
            "left": null,
            "margin": null,
            "max_height": null,
            "max_width": null,
            "min_height": null,
            "min_width": null,
            "object_fit": null,
            "object_position": null,
            "order": null,
            "overflow": null,
            "overflow_x": null,
            "overflow_y": null,
            "padding": null,
            "right": null,
            "top": null,
            "visibility": null,
            "width": null
          }
        }
      }
    }
  },
  "nbformat": 4,
  "nbformat_minor": 0
}